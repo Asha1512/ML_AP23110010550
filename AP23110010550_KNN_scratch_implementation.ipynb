{
  "nbformat": 4,
  "nbformat_minor": 0,
  "metadata": {
    "colab": {
      "provenance": []
    },
    "kernelspec": {
      "name": "python3",
      "display_name": "Python 3"
    },
    "language_info": {
      "name": "python"
    }
  },
  "cells": [
    {
      "cell_type": "code",
      "execution_count": 9,
      "metadata": {
        "colab": {
          "base_uri": "https://localhost:8080/"
        },
        "id": "1n95dr1AO2X-",
        "outputId": "6dad1b33-4e57-4083-8054-6a2a47cb3c21"
      },
      "outputs": [
        {
          "output_type": "stream",
          "name": "stdout",
          "text": [
            "   Region  Fresh  Milk  Grocery  Frozen  Detergents_Paper  Delicassen  class\n",
            "0       3  12669  9656     7561     214              2674        1338      2\n",
            "1       3   7057  9810     9568    1762              3293        1776      2\n",
            "2       3   6353  8808     7684    2405              3516        7844      2\n",
            "3       3  13265  1196     4221    6404               507        1788      1\n",
            "4       3  22615  5410     7198    3915              1777        5185      1\n",
            "<class 'pandas.core.frame.DataFrame'>\n",
            "RangeIndex: 440 entries, 0 to 439\n",
            "Data columns (total 8 columns):\n",
            " #   Column            Non-Null Count  Dtype\n",
            "---  ------            --------------  -----\n",
            " 0   Region            440 non-null    int64\n",
            " 1   Fresh             440 non-null    int64\n",
            " 2   Milk              440 non-null    int64\n",
            " 3   Grocery           440 non-null    int64\n",
            " 4   Frozen            440 non-null    int64\n",
            " 5   Detergents_Paper  440 non-null    int64\n",
            " 6   Delicassen        440 non-null    int64\n",
            " 7   class             440 non-null    int64\n",
            "dtypes: int64(8)\n",
            "memory usage: 27.6 KB\n",
            "None\n"
          ]
        }
      ],
      "source": [
        "import pandas as pd\n",
        "import numpy as np\n",
        "\n",
        "data = pd.read_csv(\"groceries.csv\")\n",
        "print(data.head())\n",
        "print(data.info())"
      ]
    },
    {
      "cell_type": "code",
      "source": [
        "print(data[\"class\"].value_counts())"
      ],
      "metadata": {
        "colab": {
          "base_uri": "https://localhost:8080/"
        },
        "id": "Bt5suJR8PqmH",
        "outputId": "d1efc8dd-4aca-4c59-b76a-0a66c671de79"
      },
      "execution_count": 10,
      "outputs": [
        {
          "output_type": "stream",
          "name": "stdout",
          "text": [
            "class\n",
            "2    180\n",
            "3    173\n",
            "1     87\n",
            "Name: count, dtype: int64\n"
          ]
        }
      ]
    },
    {
      "cell_type": "markdown",
      "source": [
        "setp 1: pre processing"
      ],
      "metadata": {
        "id": "3LLNZ9yMWTXA"
      }
    },
    {
      "cell_type": "code",
      "source": [
        "# checking if the dtaset has any missing values\n",
        "print(data.isnull().sum())\n"
      ],
      "metadata": {
        "colab": {
          "base_uri": "https://localhost:8080/"
        },
        "id": "ZgwqPZwzPuk-",
        "outputId": "a0d38255-da0e-409a-ec4d-2aad500ce45d"
      },
      "execution_count": 11,
      "outputs": [
        {
          "output_type": "stream",
          "name": "stdout",
          "text": [
            "Region              0\n",
            "Fresh               0\n",
            "Milk                0\n",
            "Grocery             0\n",
            "Frozen              0\n",
            "Detergents_Paper    0\n",
            "Delicassen          0\n",
            "class               0\n",
            "dtype: int64\n"
          ]
        }
      ]
    },
    {
      "cell_type": "markdown",
      "source": [
        "Since the data is already in numeric format no need to perform encoding"
      ],
      "metadata": {
        "id": "hpNMiZ35SHJR"
      }
    },
    {
      "cell_type": "code",
      "source": [
        "from sklearn.preprocessing import StandardScaler\n",
        "\n",
        "X = data.drop(\"class\", axis=1).values\n",
        "y = data[\"class\"].values\n",
        "\n",
        "scaler = StandardScaler()\n",
        "X = scaler.fit_transform(X)"
      ],
      "metadata": {
        "id": "kjvS48yURUFP"
      },
      "execution_count": 12,
      "outputs": []
    },
    {
      "cell_type": "code",
      "source": [
        "from sklearn.model_selection import train_test_split\n",
        "\n",
        "X_train, X_test, y_train, y_test = train_test_split(X, y, test_size=0.2, random_state=42)\n",
        "print(\"X_train shape:\", X_train.shape)\n",
        "print(\"X_test shape:\", X_test.shape)\n",
        "print(\"y_train shape:\", y_train.shape)\n",
        "print(\"y_test shape:\", y_test.shape)"
      ],
      "metadata": {
        "id": "6ayt_IKPRrmB",
        "colab": {
          "base_uri": "https://localhost:8080/"
        },
        "outputId": "1206240a-931d-43d4-c305-0784f8053062"
      },
      "execution_count": 22,
      "outputs": [
        {
          "output_type": "stream",
          "name": "stdout",
          "text": [
            "X_train shape: (352, 7)\n",
            "X_test shape: (88, 7)\n",
            "y_train shape: (352,)\n",
            "y_test shape: (88,)\n"
          ]
        }
      ]
    },
    {
      "cell_type": "markdown",
      "source": [
        "step 2: scratch implementation of KNN"
      ],
      "metadata": {
        "id": "1q4BBhWwWpXk"
      }
    },
    {
      "cell_type": "code",
      "source": [
        "def euclidean_distance(x1, x2):\n",
        "    return np.sqrt(np.sum((x1 - x2) ** 2))"
      ],
      "metadata": {
        "id": "yap6zlKtTWxe"
      },
      "execution_count": 23,
      "outputs": []
    },
    {
      "cell_type": "code",
      "source": [
        "from collections import Counter\n",
        "\n",
        "class KNN:\n",
        "    def __init__(self, k=3):\n",
        "        self.k = k\n",
        "\n",
        "    def fit(self, X, y):\n",
        "        self.X_train = X\n",
        "        self.y_train = y\n",
        "\n",
        "    def predict(self, X):\n",
        "        return np.array([self._predict(x) for x in X])\n",
        "\n",
        "    def _predict(self, x):\n",
        "        distances = [euclidean_distance(x, x_train) for x_train in self.X_train]\n",
        "        k_indices = np.argsort(distances)[:self.k]\n",
        "        k_neighbor_labels = [self.y_train[i] for i in k_indices]\n",
        "        most_common = Counter(k_neighbor_labels).most_common(1)\n",
        "        return most_common[0][0]"
      ],
      "metadata": {
        "id": "N3bs9GRpTYbt"
      },
      "execution_count": 24,
      "outputs": []
    },
    {
      "cell_type": "code",
      "source": [
        "knn_scratch = KNN(k=5)\n",
        "knn_scratch.fit(X_train, y_train)\n",
        "y_pred_scratch = knn_scratch.predict(X_test)\n",
        "\n",
        "accuracy_scratch = np.mean(y_pred_scratch == y_test)\n",
        "print(\"Scratch KNN Accuracy:\", accuracy_scratch)"
      ],
      "metadata": {
        "colab": {
          "base_uri": "https://localhost:8080/"
        },
        "id": "9HaZE7F5Taxh",
        "outputId": "dc6dc0e6-8601-4be5-bfc7-621f26be09f2"
      },
      "execution_count": 25,
      "outputs": [
        {
          "output_type": "stream",
          "name": "stdout",
          "text": [
            "Scratch KNN Accuracy: 0.8636363636363636\n"
          ]
        }
      ]
    },
    {
      "cell_type": "markdown",
      "source": [
        "step 3: KNN sklearn"
      ],
      "metadata": {
        "id": "ncVSCyIXWyPI"
      }
    },
    {
      "cell_type": "code",
      "source": [
        "from sklearn.neighbors import KNeighborsClassifier\n",
        "from sklearn.metrics import accuracy_score, classification_report, confusion_matrix\n",
        "\n",
        "knn = KNeighborsClassifier(n_neighbors=5)\n",
        "knn.fit(X_train, y_train)\n",
        "y_pred = knn.predict(X_test)\n",
        "\n",
        "print(\"Sklearn KNN Accuracy:\", accuracy_score(y_test, y_pred))\n",
        "print(\"Confusion Matrix:\\n\", confusion_matrix(y_test, y_pred))\n",
        "print(\"Classification Report:\\n\", classification_report(y_test, y_pred))"
      ],
      "metadata": {
        "colab": {
          "base_uri": "https://localhost:8080/"
        },
        "id": "Mkbx3Tf9Tc42",
        "outputId": "c04c3271-691c-4811-c51e-5fd91eb68cee"
      },
      "execution_count": 26,
      "outputs": [
        {
          "output_type": "stream",
          "name": "stdout",
          "text": [
            "Sklearn KNN Accuracy: 0.8636363636363636\n",
            "Confusion Matrix:\n",
            " [[12  2  2]\n",
            " [ 4 32  3]\n",
            " [ 0  1 32]]\n",
            "Classification Report:\n",
            "               precision    recall  f1-score   support\n",
            "\n",
            "           1       0.75      0.75      0.75        16\n",
            "           2       0.91      0.82      0.86        39\n",
            "           3       0.86      0.97      0.91        33\n",
            "\n",
            "    accuracy                           0.86        88\n",
            "   macro avg       0.84      0.85      0.84        88\n",
            "weighted avg       0.87      0.86      0.86        88\n",
            "\n"
          ]
        }
      ]
    },
    {
      "cell_type": "code",
      "source": [],
      "metadata": {
        "id": "V72Xj9-WTfOX"
      },
      "execution_count": null,
      "outputs": []
    }
  ]
}